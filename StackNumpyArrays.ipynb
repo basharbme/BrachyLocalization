{
 "cells": [
  {
   "cell_type": "code",
   "execution_count": 6,
   "metadata": {},
   "outputs": [
    {
     "name": "stdout",
     "output_type": "stream",
     "text": [
      "(23, 70, 740, 856)\n",
      "(23, 70, 740, 856)\n"
     ]
    }
   ],
   "source": [
    "import numpy\n",
    "import os\n",
    "\n",
    "# Numpy array shape: (77, 740, 856)\n",
    "\n",
    "image_path = 'downloads/numpy_data/Ultrasound Volumes/'\n",
    "segmentation_path = 'downloads/numpy_data/Patient Segmentations/'\n",
    "image_file_list = [image_path + f for f in os.listdir(image_path) if f.endswith('.npy')]\n",
    "segmentation_file_list = [segmentation_path + f for f in os.listdir(segmentation_path) if f.endswith('.npy')]\n",
    "\n",
    "image_arrays = []\n",
    "for file in image_file_list:\n",
    "    image_array = numpy.load(file)\n",
    "    image_array.resize(70, 740, 856)\n",
    "    image_arrays.append(image_array)\n",
    "\n",
    "segmentation_arrays = []\n",
    "for file in segmentation_file_list:\n",
    "    segmentation_array = numpy.load(file)\n",
    "    segmentation_array.resize(70, 740, 856)\n",
    "    segmentation_arrays.append(segmentation_array)\n",
    "\n",
    "stacked_image_array = numpy.stack(image_arrays)\n",
    "stacked_segmentation_array = numpy.stack(segmentation_arrays)\n",
    "\n",
    "print(stacked_image_array.shape)\n",
    "print(stacked_segmentation_array.shape)\n",
    "\n",
    "# export as numpy files\n",
    "image_file = 'downloads/numpy_data/Stacked Arrays/stacked_image_array'\n",
    "segmentation_file = 'downloads/numpy_data/Stacked Arrays/stacked_segmentation_array'\n",
    "\n",
    "numpy.save(image_file, stacked_image_array)\n",
    "numpy.save(segmentation_file, stacked_segmentation_array)"
   ]
  },
  {
   "cell_type": "code",
   "execution_count": 2,
   "metadata": {},
   "outputs": [],
   "source": [
    "%gui qt"
   ]
  },
  {
   "cell_type": "code",
   "execution_count": 3,
   "metadata": {},
   "outputs": [],
   "source": [
    "from mayavi import mlab\n",
    "\n",
    "mlab.volume_slice(segmentation_arrays[0])\n",
    "mlab.volume_slice(image_arrays[0])\n",
    "mlab.show()"
   ]
  }
 ],
 "metadata": {
  "kernelspec": {
   "display_name": "Python 3",
   "language": "python",
   "name": "python3"
  },
  "language_info": {
   "codemirror_mode": {
    "name": "ipython",
    "version": 3
   },
   "file_extension": ".py",
   "mimetype": "text/x-python",
   "name": "python",
   "nbconvert_exporter": "python",
   "pygments_lexer": "ipython3",
   "version": "3.7.3"
  }
 },
 "nbformat": 4,
 "nbformat_minor": 2
}
